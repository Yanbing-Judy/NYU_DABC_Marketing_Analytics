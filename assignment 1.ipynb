{
 "cells": [
  {
   "cell_type": "code",
   "execution_count": 1,
   "metadata": {},
   "outputs": [
    {
     "name": "stderr",
     "output_type": "stream",
     "text": [
      "/opt/anaconda3/lib/python3.7/site-packages/statsmodels/tools/_testing.py:19: FutureWarning: pandas.util.testing is deprecated. Use the functions in the public API at pandas.testing instead.\n",
      "  import pandas.util.testing as tm\n"
     ]
    }
   ],
   "source": [
    "import numpy as np\n",
    "import pandas as pd\n",
    "import scipy.stats as stats\n",
    "import statsmodels.stats.api as sms"
   ]
  },
  {
   "cell_type": "markdown",
   "metadata": {},
   "source": [
    "## Data Preprocessing"
   ]
  },
  {
   "cell_type": "code",
   "execution_count": 2,
   "metadata": {
    "scrolled": true
   },
   "outputs": [],
   "source": [
    "df = pd.read_csv('AB_test_data.csv')"
   ]
  },
  {
   "cell_type": "code",
   "execution_count": 3,
   "metadata": {
    "scrolled": true
   },
   "outputs": [
    {
     "data": {
      "text/html": [
       "<div>\n",
       "<style scoped>\n",
       "    .dataframe tbody tr th:only-of-type {\n",
       "        vertical-align: middle;\n",
       "    }\n",
       "\n",
       "    .dataframe tbody tr th {\n",
       "        vertical-align: top;\n",
       "    }\n",
       "\n",
       "    .dataframe thead th {\n",
       "        text-align: right;\n",
       "    }\n",
       "</style>\n",
       "<table border=\"1\" class=\"dataframe\">\n",
       "  <thead>\n",
       "    <tr style=\"text-align: right;\">\n",
       "      <th></th>\n",
       "      <th>conversion</th>\n",
       "      <th>variant</th>\n",
       "      <th>date</th>\n",
       "      <th>id</th>\n",
       "    </tr>\n",
       "  </thead>\n",
       "  <tbody>\n",
       "    <tr>\n",
       "      <th>0</th>\n",
       "      <td>False</td>\n",
       "      <td>A</td>\n",
       "      <td>2019-11-08</td>\n",
       "      <td>0x25b44a</td>\n",
       "    </tr>\n",
       "    <tr>\n",
       "      <th>1</th>\n",
       "      <td>False</td>\n",
       "      <td>B</td>\n",
       "      <td>2020-08-27</td>\n",
       "      <td>0x46271e</td>\n",
       "    </tr>\n",
       "    <tr>\n",
       "      <th>2</th>\n",
       "      <td>False</td>\n",
       "      <td>A</td>\n",
       "      <td>2020-06-11</td>\n",
       "      <td>0x80b8f1</td>\n",
       "    </tr>\n",
       "    <tr>\n",
       "      <th>3</th>\n",
       "      <td>False</td>\n",
       "      <td>B</td>\n",
       "      <td>2020-08-22</td>\n",
       "      <td>0x8d736d</td>\n",
       "    </tr>\n",
       "    <tr>\n",
       "      <th>4</th>\n",
       "      <td>False</td>\n",
       "      <td>A</td>\n",
       "      <td>2020-08-05</td>\n",
       "      <td>0x96c9c8</td>\n",
       "    </tr>\n",
       "  </tbody>\n",
       "</table>\n",
       "</div>"
      ],
      "text/plain": [
       "   conversion variant        date        id\n",
       "0       False       A  2019-11-08  0x25b44a\n",
       "1       False       B  2020-08-27  0x46271e\n",
       "2       False       A  2020-06-11  0x80b8f1\n",
       "3       False       B  2020-08-22  0x8d736d\n",
       "4       False       A  2020-08-05  0x96c9c8"
      ]
     },
     "execution_count": 3,
     "metadata": {},
     "output_type": "execute_result"
    }
   ],
   "source": [
    "df = df.rename(columns={'purchase_TF': 'conversion', 'Variant': 'variant'})\n",
    "df.head()"
   ]
  },
  {
   "cell_type": "code",
   "execution_count": 4,
   "metadata": {},
   "outputs": [
    {
     "data": {
      "text/plain": [
       "False    110415\n",
       "True      19585\n",
       "Name: conversion, dtype: int64"
      ]
     },
     "execution_count": 4,
     "metadata": {},
     "output_type": "execute_result"
    }
   ],
   "source": [
    "df[\"conversion\"].value_counts()"
   ]
  },
  {
   "cell_type": "code",
   "execution_count": 5,
   "metadata": {
    "scrolled": true
   },
   "outputs": [
    {
     "data": {
      "text/plain": [
       "A    125000\n",
       "B      5000\n",
       "Name: variant, dtype: int64"
      ]
     },
     "execution_count": 5,
     "metadata": {},
     "output_type": "execute_result"
    }
   ],
   "source": [
    "df['variant'].value_counts()"
   ]
  },
  {
   "cell_type": "code",
   "execution_count": 6,
   "metadata": {},
   "outputs": [
    {
     "data": {
      "text/html": [
       "<div>\n",
       "<style scoped>\n",
       "    .dataframe tbody tr th:only-of-type {\n",
       "        vertical-align: middle;\n",
       "    }\n",
       "\n",
       "    .dataframe tbody tr th {\n",
       "        vertical-align: top;\n",
       "    }\n",
       "\n",
       "    .dataframe thead th {\n",
       "        text-align: right;\n",
       "    }\n",
       "</style>\n",
       "<table border=\"1\" class=\"dataframe\">\n",
       "  <thead>\n",
       "    <tr style=\"text-align: right;\">\n",
       "      <th></th>\n",
       "      <th>conversion</th>\n",
       "      <th>variant</th>\n",
       "      <th>date</th>\n",
       "      <th>id</th>\n",
       "    </tr>\n",
       "  </thead>\n",
       "  <tbody>\n",
       "    <tr>\n",
       "      <th>0</th>\n",
       "      <td>0</td>\n",
       "      <td>A</td>\n",
       "      <td>2019-11-08</td>\n",
       "      <td>0x25b44a</td>\n",
       "    </tr>\n",
       "    <tr>\n",
       "      <th>1</th>\n",
       "      <td>0</td>\n",
       "      <td>B</td>\n",
       "      <td>2020-08-27</td>\n",
       "      <td>0x46271e</td>\n",
       "    </tr>\n",
       "    <tr>\n",
       "      <th>2</th>\n",
       "      <td>0</td>\n",
       "      <td>A</td>\n",
       "      <td>2020-06-11</td>\n",
       "      <td>0x80b8f1</td>\n",
       "    </tr>\n",
       "    <tr>\n",
       "      <th>3</th>\n",
       "      <td>0</td>\n",
       "      <td>B</td>\n",
       "      <td>2020-08-22</td>\n",
       "      <td>0x8d736d</td>\n",
       "    </tr>\n",
       "    <tr>\n",
       "      <th>4</th>\n",
       "      <td>0</td>\n",
       "      <td>A</td>\n",
       "      <td>2020-08-05</td>\n",
       "      <td>0x96c9c8</td>\n",
       "    </tr>\n",
       "  </tbody>\n",
       "</table>\n",
       "</div>"
      ],
      "text/plain": [
       "   conversion variant        date        id\n",
       "0           0       A  2019-11-08  0x25b44a\n",
       "1           0       B  2020-08-27  0x46271e\n",
       "2           0       A  2020-06-11  0x80b8f1\n",
       "3           0       B  2020-08-22  0x8d736d\n",
       "4           0       A  2020-08-05  0x96c9c8"
      ]
     },
     "execution_count": 6,
     "metadata": {},
     "output_type": "execute_result"
    }
   ],
   "source": [
    "con_values = {\n",
    "    False: 0,\n",
    "    True: 1\n",
    "}\n",
    "\n",
    "df.conversion = df.conversion.map(con_values)\n",
    "df.head()"
   ]
  },
  {
   "cell_type": "code",
   "execution_count": 7,
   "metadata": {
    "scrolled": false
   },
   "outputs": [
    {
     "data": {
      "text/plain": [
       "0    110415\n",
       "1     19585\n",
       "Name: conversion, dtype: int64"
      ]
     },
     "execution_count": 7,
     "metadata": {},
     "output_type": "execute_result"
    }
   ],
   "source": [
    "df.conversion.value_counts()"
   ]
  },
  {
   "cell_type": "code",
   "execution_count": 8,
   "metadata": {},
   "outputs": [
    {
     "data": {
      "text/plain": [
       "B    4832\n",
       "A    4814\n",
       "Name: variant, dtype: int64"
      ]
     },
     "execution_count": 8,
     "metadata": {},
     "output_type": "execute_result"
    }
   ],
   "source": [
    "df[df['date']>'2020-08-01']['variant'].value_counts()"
   ]
  },
  {
   "cell_type": "markdown",
   "metadata": {},
   "source": [
    "## Hypothesis Test"
   ]
  },
  {
   "cell_type": "markdown",
   "metadata": {},
   "source": [
    "**Definition**\n",
    "\n",
    "\"A\" -- control group -- shows current practice; \n",
    "\n",
    "\"B\" -- treatment group -- adds walkability assessment (user review)\n",
    "\n",
    "* Null hypothesis: R_B = R_A\n",
    "* Alternative hypothesis: R_B > R_A"
   ]
  },
  {
   "cell_type": "code",
   "execution_count": 9,
   "metadata": {},
   "outputs": [],
   "source": [
    "from scipy.stats import norm"
   ]
  },
  {
   "cell_type": "code",
   "execution_count": 10,
   "metadata": {},
   "outputs": [],
   "source": [
    "control_results = df[df['variant'] == 'A']['conversion']\n",
    "treatment_results = df[df['variant'] == 'B']['conversion']"
   ]
  },
  {
   "cell_type": "code",
   "execution_count": 11,
   "metadata": {},
   "outputs": [],
   "source": [
    "p_hat = treatment_results.sum()/treatment_results.count()\n",
    "p = control_results.sum()/control_results.count()\n",
    "sigma_p_hat = np.sqrt((p*(1-p)/treatment_results.count()))"
   ]
  },
  {
   "cell_type": "code",
   "execution_count": 12,
   "metadata": {},
   "outputs": [
    {
     "data": {
      "text/plain": [
       "5.349273094732516"
      ]
     },
     "execution_count": 12,
     "metadata": {},
     "output_type": "execute_result"
    }
   ],
   "source": [
    "z = (p_hat-p)/sigma_p_hat\n",
    "z"
   ]
  },
  {
   "cell_type": "code",
   "execution_count": 13,
   "metadata": {},
   "outputs": [
    {
     "data": {
      "text/plain": [
       "4.415410062469104e-08"
      ]
     },
     "execution_count": 13,
     "metadata": {},
     "output_type": "execute_result"
    }
   ],
   "source": [
    "p_value = norm().sf(z) #sf = 1-CDF\n",
    "p_value"
   ]
  },
  {
   "cell_type": "markdown",
   "metadata": {},
   "source": [
    "**Reject null hypothesis if z>z_a:**\n",
    "\n",
    "when a = 5%, z_a = 1.64, we reject the null hypothesis and state that there exists enough evidence to state that adding walkability assessment **will improve the conversion of the customers**. "
   ]
  },
  {
   "cell_type": "markdown",
   "metadata": {},
   "source": [
    "## Choosing the optimal sample size"
   ]
  },
  {
   "cell_type": "code",
   "execution_count": 14,
   "metadata": {
    "scrolled": false
   },
   "outputs": [
    {
     "data": {
      "text/plain": [
       "1.959963984540054"
      ]
     },
     "execution_count": 14,
     "metadata": {},
     "output_type": "execute_result"
    }
   ],
   "source": [
    "#t_(a/2)\n",
    "norm().ppf(1-0.05/2)"
   ]
  },
  {
   "cell_type": "code",
   "execution_count": 15,
   "metadata": {},
   "outputs": [
    {
     "data": {
      "text/plain": [
       "0.8416212335729143"
      ]
     },
     "execution_count": 15,
     "metadata": {},
     "output_type": "execute_result"
    }
   ],
   "source": [
    "#t_(beta)\n",
    "norm().ppf(1-0.2)"
   ]
  },
  {
   "cell_type": "markdown",
   "metadata": {},
   "source": [
    "Following the standards in the literature and using a signifcance level of 0.05, and setting power to 0.80, we have\n",
    "t_(a/2) = 1.96 and t_beta = 0.84 from standard normal tables."
   ]
  },
  {
   "cell_type": "code",
   "execution_count": 16,
   "metadata": {},
   "outputs": [
    {
     "data": {
      "text/plain": [
       "0.163108"
      ]
     },
     "execution_count": 16,
     "metadata": {},
     "output_type": "execute_result"
    }
   ],
   "source": [
    "p_bar = (p_hat+p)/2\n",
    "p_bar"
   ]
  },
  {
   "cell_type": "code",
   "execution_count": 17,
   "metadata": {},
   "outputs": [],
   "source": [
    "mdf = p_hat-p"
   ]
  },
  {
   "cell_type": "code",
   "execution_count": 18,
   "metadata": {},
   "outputs": [
    {
     "data": {
      "text/plain": [
       "2009.978857988649"
      ]
     },
     "execution_count": 18,
     "metadata": {},
     "output_type": "execute_result"
    }
   ],
   "source": [
    "sample_size=((norm().ppf(1-0.05/2))*np.sqrt(2*p_bar*(1-p_bar)) + \\\n",
    "             (norm().ppf(1-0.2))*np.sqrt(p*(1-p)+p_hat*(1-p_hat))\n",
    "            )/(mdf**2)\n",
    "sample_size"
   ]
  },
  {
   "cell_type": "code",
   "execution_count": 19,
   "metadata": {},
   "outputs": [
    {
     "name": "stdout",
     "output_type": "stream",
     "text": [
      "sample 0: , z score: 2.356930, p_value: 0.009213\n",
      "Reject the null hypothesis.\n",
      "sample 1: , z score: 4.658986, p_value: 0.000002\n",
      "Reject the null hypothesis.\n",
      "sample 2: , z score: 3.151690, p_value: 0.000812\n",
      "Reject the null hypothesis.\n",
      "sample 3: , z score: 7.576998, p_value: 0.000000\n",
      "Reject the null hypothesis.\n",
      "sample 4: , z score: 4.316619, p_value: 0.000008\n",
      "Reject the null hypothesis.\n",
      "sample 5: , z score: 5.150727, p_value: 0.000000\n",
      "Reject the null hypothesis.\n",
      "sample 6: , z score: 4.154232, p_value: 0.000016\n",
      "Reject the null hypothesis.\n",
      "sample 7: , z score: 3.639328, p_value: 0.000137\n",
      "Reject the null hypothesis.\n",
      "sample 8: , z score: 4.022732, p_value: 0.000029\n",
      "Reject the null hypothesis.\n",
      "sample 9: , z score: 2.945094, p_value: 0.001614\n",
      "Reject the null hypothesis.\n"
     ]
    }
   ],
   "source": [
    "sample_c = []\n",
    "sample_t = []\n",
    "i = 0\n",
    "while i < 10:\n",
    "    control = control_results.sample(n=round(sample_size))\n",
    "    sample_c.append(control)\n",
    "    treatment = treatment_results.sample(n=round(sample_size))\n",
    "    sample_t.append(treatment)\n",
    "    p_hat = treatment.sum()/treatment.count()\n",
    "    p = control.sum()/control.count()\n",
    "    sigma_p_hat = np.sqrt((p*(1-p)/treatment.count()))\n",
    "    z = (p_hat-p)/sigma_p_hat\n",
    "    p_value = norm().sf(z)\n",
    "    print(\"sample %d: , z score: %f, p_value: %f\"%(i,z,p_value))\n",
    "    if z>1.64:\n",
    "        print('Reject the null hypothesis.')\n",
    "    else:\n",
    "        print('Fail to reject the null hypothesis.')\n",
    "    i+=1"
   ]
  },
  {
   "cell_type": "markdown",
   "metadata": {},
   "source": [
    "## Sequential Test"
   ]
  },
  {
   "cell_type": "code",
   "execution_count": 20,
   "metadata": {
    "scrolled": true
   },
   "outputs": [
    {
     "data": {
      "text/plain": [
       "61999    0\n",
       "Name: conversion, dtype: int64"
      ]
     },
     "execution_count": 20,
     "metadata": {},
     "output_type": "execute_result"
    }
   ],
   "source": [
    "sample_c[0][0:1]"
   ]
  },
  {
   "cell_type": "code",
   "execution_count": 21,
   "metadata": {},
   "outputs": [
    {
     "data": {
      "text/plain": [
       "61999     0\n",
       "49910     0\n",
       "71967     0\n",
       "60220     0\n",
       "96978     0\n",
       "         ..\n",
       "65627     1\n",
       "101890    0\n",
       "122854    0\n",
       "102141    0\n",
       "116475    1\n",
       "Name: conversion, Length: 2010, dtype: int64"
      ]
     },
     "execution_count": 21,
     "metadata": {},
     "output_type": "execute_result"
    }
   ],
   "source": [
    "sample_c[0]"
   ]
  },
  {
   "cell_type": "code",
   "execution_count": 22,
   "metadata": {},
   "outputs": [],
   "source": [
    "#boundary\n",
    "upper = np.log(1/0.05) #alpha = 0.05\n",
    "lower = np.log(0.2) #beta = 0.2"
   ]
  },
  {
   "cell_type": "code",
   "execution_count": 23,
   "metadata": {},
   "outputs": [
    {
     "data": {
      "text/plain": [
       "2010"
      ]
     },
     "execution_count": 23,
     "metadata": {},
     "output_type": "execute_result"
    }
   ],
   "source": [
    "round(sample_size)"
   ]
  },
  {
   "cell_type": "code",
   "execution_count": 24,
   "metadata": {},
   "outputs": [
    {
     "name": "stdout",
     "output_type": "stream",
     "text": [
      "sample: 0, index: 1810\n",
      "3.003657641570153\n",
      "since ln(lambda_n) is higher than the boundary, we reject Ho.\n",
      "sample: 1, index: 215\n",
      "3.141203923183758\n",
      "since ln(lambda_n) is higher than the boundary, we reject Ho.\n",
      "sample: 2, index: 566\n",
      "3.026797304948125\n",
      "since ln(lambda_n) is higher than the boundary, we reject Ho.\n",
      "sample: 3, index: 107\n",
      "-1.6728830635253493\n",
      "since ln(lambda_n) is lower than the boundary, we accept Ho.\n",
      "sample: 4, index: 1088\n",
      "3.007406474202855\n",
      "since ln(lambda_n) is higher than the boundary, we reject Ho.\n",
      "sample: 5, index: 537\n",
      "3.1275460804399366\n",
      "since ln(lambda_n) is higher than the boundary, we reject Ho.\n",
      "sample: 6, index: 711\n",
      "3.072846112437053\n",
      "since ln(lambda_n) is higher than the boundary, we reject Ho.\n",
      "sample: 7, index: 599\n",
      "3.08596103673794\n",
      "since ln(lambda_n) is higher than the boundary, we reject Ho.\n",
      "sample: 8, index: 612\n",
      "3.012889724650055\n",
      "since ln(lambda_n) is higher than the boundary, we reject Ho.\n",
      "sample: 9, index: 862\n",
      "3.0092191107552395\n",
      "since ln(lambda_n) is higher than the boundary, we reject Ho.\n",
      "The average iteration is: 712\n"
     ]
    }
   ],
   "source": [
    "trials=[]\n",
    "i = 0\n",
    "while i<10:\n",
    "    ln = 0\n",
    "    control = sample_c[i]\n",
    "    treatment = sample_t[i]\n",
    "    p = control.sum()/control.count()\n",
    "    p_hat = treatment.sum()/treatment.count()\n",
    "    j = 0\n",
    "    while j < round(sample_size):\n",
    "        d = treatment[j:j+1]\n",
    "        if int(d) == 1:\n",
    "            likelihood = np.log(p_hat/p)\n",
    "        elif int(d) == 0:\n",
    "            likelihood = np.log((1-p_hat)/(1-p))\n",
    "        \n",
    "        ln += likelihood\n",
    "        \n",
    "        if ln <= lower:\n",
    "            trials.append(j+1)\n",
    "            print('sample: %d, index: %d'%(i, j))\n",
    "            print(ln)\n",
    "            print('since ln(lambda_n) is lower than the boundary, we accept Ho.')\n",
    "            break    \n",
    "        \n",
    "        elif ln >= upper:\n",
    "            trials.append(j+1)\n",
    "            print('sample: %d, index: %d'%(i, j))\n",
    "            print(ln)\n",
    "            print('since ln(lambda_n) is higher than the boundary, we reject Ho.')\n",
    "            break\n",
    "            \n",
    "        elif (lower < ln < upper) and (j == round(sample_size)-1):\n",
    "            trials.append(j+1)\n",
    "            print('sample: %d'%(i))\n",
    "            print(ln)\n",
    "            print('Cannot stop the test prior to using the full sample.')\n",
    "            \n",
    "        j+=1\n",
    "       \n",
    "    i+=1\n",
    "print('The average iteration is: %.0f'%(sum(trials)/len(trials)))"
   ]
  },
  {
   "cell_type": "code",
   "execution_count": null,
   "metadata": {},
   "outputs": [],
   "source": []
  }
 ],
 "metadata": {
  "kernelspec": {
   "display_name": "Python 3",
   "language": "python",
   "name": "python3"
  },
  "language_info": {
   "codemirror_mode": {
    "name": "ipython",
    "version": 3
   },
   "file_extension": ".py",
   "mimetype": "text/x-python",
   "name": "python",
   "nbconvert_exporter": "python",
   "pygments_lexer": "ipython3",
   "version": "3.7.4"
  }
 },
 "nbformat": 4,
 "nbformat_minor": 2
}
